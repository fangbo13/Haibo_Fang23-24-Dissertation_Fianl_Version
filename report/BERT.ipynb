{
 "cells": [
  {
   "cell_type": "code",
   "execution_count": 1,
   "metadata": {},
   "outputs": [
    {
     "name": "stdout",
     "output_type": "stream",
     "text": [
      "True\n",
      "0\n",
      "NVIDIA GeForce RTX 2060\n"
     ]
    }
   ],
   "source": [
    "import torch\n",
    "\n",
    "# 检查是否有可用的GPU\n",
    "print(torch.cuda.is_available())\n",
    "\n",
    "# 输出当前使用的GPU设备\n",
    "if torch.cuda.is_available():\n",
    "    print(torch.cuda.current_device())\n",
    "    print(torch.cuda.get_device_name(torch.cuda.current_device()))\n",
    "else:\n",
    "    print(\"CUDA is not available.\")\n"
   ]
  },
  {
   "cell_type": "code",
   "execution_count": 2,
   "metadata": {},
   "outputs": [
    {
     "name": "stderr",
     "output_type": "stream",
     "text": [
      "c:\\Users\\48869\\anaconda3\\envs\\new_env\\lib\\site-packages\\tqdm\\auto.py:21: TqdmWarning: IProgress not found. Please update jupyter and ipywidgets. See https://ipywidgets.readthedocs.io/en/stable/user_install.html\n",
      "  from .autonotebook import tqdm as notebook_tqdm\n"
     ]
    },
    {
     "name": "stdout",
     "output_type": "stream",
     "text": [
      "Using device: cuda\n"
     ]
    },
    {
     "name": "stderr",
     "output_type": "stream",
     "text": [
      "Some weights of BertForSequenceClassification were not initialized from the model checkpoint at bert-base-uncased and are newly initialized: ['classifier.bias', 'classifier.weight']\n",
      "You should probably TRAIN this model on a down-stream task to be able to use it for predictions and inference.\n"
     ]
    }
   ],
   "source": [
    "import pandas as pd\n",
    "from sklearn.model_selection import train_test_split\n",
    "from transformers import BertTokenizer, BertForSequenceClassification\n",
    "import torch\n",
    "from torch.utils.data import Dataset\n",
    "\n",
    "# 加载Financial PhraseBank数据集\n",
    "file_path = 'E:/Haibo_Fang23-24-Dissertation/report/FinancialPhraseBank-v1.0/Sentences_AllAgree.txt'\n",
    "\n",
    "# 加载数据并添加列名\n",
    "df = pd.read_csv(file_path, delimiter='@', header=None, names=['sentence', 'sentiment'], encoding='ISO-8859-1')\n",
    "\n",
    "# 去除空白符号\n",
    "df['sentence'] = df['sentence'].str.strip()\n",
    "df['sentiment'] = df['sentiment'].str.strip()\n",
    "\n",
    "# 将情绪标签转换为数字\n",
    "df['sentiment'] = df['sentiment'].map({'negative': 0, 'neutral': 1, 'positive': 2})\n",
    "\n",
    "# 划分训练集和测试集\n",
    "train_texts, test_texts, train_labels, test_labels = train_test_split(df['sentence'].tolist(), df['sentiment'].tolist(), test_size=0.2, random_state=42)\n",
    "\n",
    "# 自定义数据集类\n",
    "class FinancialPhraseBankDataset(Dataset):\n",
    "    def __init__(self, texts, labels, tokenizer, max_len):\n",
    "        self.texts = texts\n",
    "        self.labels = labels\n",
    "        self.tokenizer = tokenizer\n",
    "        self.max_len = max_len\n",
    "\n",
    "    def __len__(self):\n",
    "        return len(self.texts)\n",
    "\n",
    "    def __getitem__(self, idx):\n",
    "        text = self.texts[idx]\n",
    "        label = self.labels[idx]\n",
    "        encoding = self.tokenizer.encode_plus(\n",
    "            text,\n",
    "            add_special_tokens=True,\n",
    "            max_length=self.max_len,\n",
    "            return_token_type_ids=False,\n",
    "            padding='max_length',\n",
    "            truncation=True,\n",
    "            return_attention_mask=True,\n",
    "            return_tensors='pt'\n",
    "        )\n",
    "        return {\n",
    "            'input_ids': encoding['input_ids'].flatten(),\n",
    "            'attention_mask': encoding['attention_mask'].flatten(),\n",
    "            'labels': torch.tensor(label, dtype=torch.long)\n",
    "        }\n",
    "\n",
    "# 设置设备\n",
    "device = torch.device(\"cuda\" if torch.cuda.is_available() else \"cpu\")\n",
    "print(f\"Using device: {device}\")\n",
    "\n",
    "# 加载预训练的BERT模型和tokenizer\n",
    "model_name = 'bert-base-uncased'\n",
    "tokenizer = BertTokenizer.from_pretrained(model_name)\n",
    "model = BertForSequenceClassification.from_pretrained(model_name, num_labels=3).to(device)\n",
    "\n",
    "# 创建数据集\n",
    "train_dataset = FinancialPhraseBankDataset(train_texts, train_labels, tokenizer, max_len=512)\n",
    "test_dataset = FinancialPhraseBankDataset(test_texts, test_labels, tokenizer, max_len=512)\n"
   ]
  },
  {
   "cell_type": "code",
   "execution_count": 3,
   "metadata": {},
   "outputs": [
    {
     "name": "stderr",
     "output_type": "stream",
     "text": [
      "c:\\Users\\48869\\anaconda3\\envs\\new_env\\lib\\site-packages\\transformers\\training_args.py:1474: FutureWarning: `evaluation_strategy` is deprecated and will be removed in version 4.46 of 🤗 Transformers. Use `eval_strategy` instead\n",
      "  warnings.warn(\n",
      " 15%|█▍        | 100/681 [00:36<03:30,  2.76it/s]"
     ]
    },
    {
     "name": "stdout",
     "output_type": "stream",
     "text": [
      "{'loss': 1.0367, 'grad_norm': 4.762389659881592, 'learning_rate': 9.900000000000002e-06, 'epoch': 0.44}\n"
     ]
    },
    {
     "name": "stderr",
     "output_type": "stream",
     "text": [
      " 29%|██▉       | 200/681 [01:13<02:57,  2.71it/s]"
     ]
    },
    {
     "name": "stdout",
     "output_type": "stream",
     "text": [
      "{'loss': 0.4255, 'grad_norm': 2.5994019508361816, 'learning_rate': 1.9800000000000004e-05, 'epoch': 0.88}\n"
     ]
    },
    {
     "name": "stderr",
     "output_type": "stream",
     "text": [
      "                                                 \n",
      " 33%|███▎      | 227/681 [01:29<02:22,  3.19it/s]"
     ]
    },
    {
     "name": "stdout",
     "output_type": "stream",
     "text": [
      "{'eval_loss': 0.1462348997592926, 'eval_runtime': 6.2605, 'eval_samples_per_second': 72.358, 'eval_steps_per_second': 9.105, 'epoch': 1.0}\n"
     ]
    },
    {
     "name": "stderr",
     "output_type": "stream",
     "text": [
      " 44%|████▍     | 300/681 [01:57<02:18,  2.75it/s]"
     ]
    },
    {
     "name": "stdout",
     "output_type": "stream",
     "text": [
      "{'loss': 0.1899, 'grad_norm': 0.1298755556344986, 'learning_rate': 2.98e-05, 'epoch': 1.32}\n"
     ]
    },
    {
     "name": "stderr",
     "output_type": "stream",
     "text": [
      " 59%|█████▊    | 400/681 [02:33<01:42,  2.75it/s]"
     ]
    },
    {
     "name": "stdout",
     "output_type": "stream",
     "text": [
      "{'loss': 0.2064, 'grad_norm': 27.075387954711914, 'learning_rate': 3.9800000000000005e-05, 'epoch': 1.76}\n"
     ]
    },
    {
     "name": "stderr",
     "output_type": "stream",
     "text": [
      "                                                 \n",
      " 67%|██████▋   | 454/681 [02:59<01:10,  3.21it/s]"
     ]
    },
    {
     "name": "stdout",
     "output_type": "stream",
     "text": [
      "{'eval_loss': 0.1873665601015091, 'eval_runtime': 6.2681, 'eval_samples_per_second': 72.27, 'eval_steps_per_second': 9.094, 'epoch': 2.0}\n"
     ]
    },
    {
     "name": "stderr",
     "output_type": "stream",
     "text": [
      " 73%|███████▎  | 500/681 [03:18<01:06,  2.74it/s]"
     ]
    },
    {
     "name": "stdout",
     "output_type": "stream",
     "text": [
      "{'loss': 0.1224, 'grad_norm': 33.05534744262695, 'learning_rate': 4.9800000000000004e-05, 'epoch': 2.2}\n"
     ]
    },
    {
     "name": "stderr",
     "output_type": "stream",
     "text": [
      " 88%|████████▊ | 600/681 [03:54<00:29,  2.75it/s]"
     ]
    },
    {
     "name": "stdout",
     "output_type": "stream",
     "text": [
      "{'loss': 0.1168, 'grad_norm': 0.17812764644622803, 'learning_rate': 2.3204419889502762e-05, 'epoch': 2.64}\n"
     ]
    },
    {
     "name": "stderr",
     "output_type": "stream",
     "text": [
      "                                                 \n",
      "100%|██████████| 681/681 [04:30<00:00,  3.19it/s]"
     ]
    },
    {
     "name": "stdout",
     "output_type": "stream",
     "text": [
      "{'eval_loss': 0.2292633354663849, 'eval_runtime': 6.2627, 'eval_samples_per_second': 72.333, 'eval_steps_per_second': 9.102, 'epoch': 3.0}\n"
     ]
    },
    {
     "name": "stderr",
     "output_type": "stream",
     "text": [
      "100%|██████████| 681/681 [04:32<00:00,  2.50it/s]"
     ]
    },
    {
     "name": "stdout",
     "output_type": "stream",
     "text": [
      "{'train_runtime': 272.142, 'train_samples_per_second': 19.964, 'train_steps_per_second': 2.502, 'train_loss': 0.31303124140712835, 'epoch': 3.0}\n"
     ]
    },
    {
     "name": "stderr",
     "output_type": "stream",
     "text": [
      "\n"
     ]
    },
    {
     "data": {
      "text/plain": [
       "TrainOutput(global_step=681, training_loss=0.31303124140712835, metrics={'train_runtime': 272.142, 'train_samples_per_second': 19.964, 'train_steps_per_second': 2.502, 'total_flos': 1429495198516224.0, 'train_loss': 0.31303124140712835, 'epoch': 3.0})"
      ]
     },
     "execution_count": 3,
     "metadata": {},
     "output_type": "execute_result"
    }
   ],
   "source": [
    "from transformers import Trainer, TrainingArguments\n",
    "\n",
    "# 定义训练参数\n",
    "training_args = TrainingArguments(\n",
    "    output_dir='./results',\n",
    "    num_train_epochs=3,\n",
    "    per_device_train_batch_size=8,\n",
    "    per_device_eval_batch_size=8,\n",
    "    warmup_steps=500,\n",
    "    weight_decay=0.01,\n",
    "    logging_dir='./logs',\n",
    "    evaluation_strategy=\"epoch\",\n",
    "    logging_strategy=\"steps\",\n",
    "    logging_steps=100,  # 修改为每100步记录一次\n",
    "    save_strategy=\"epoch\",\n",
    "    fp16=True  # 启用混合精度训练\n",
    ")\n",
    "\n",
    "# 使用Trainer API进行训练\n",
    "trainer = Trainer(\n",
    "    model=model,\n",
    "    args=training_args,\n",
    "    train_dataset=train_dataset,\n",
    "    eval_dataset=test_dataset\n",
    ")\n",
    "\n",
    "trainer.train()\n"
   ]
  },
  {
   "cell_type": "code",
   "execution_count": 5,
   "metadata": {},
   "outputs": [
    {
     "name": "stdout",
     "output_type": "stream",
     "text": [
      "Sentiment Summary: {0: 12, 1: 77, 2: 11}\n"
     ]
    }
   ],
   "source": [
    "import numpy as np\n",
    "import praw\n",
    "\n",
    "# Reddit API 认证\n",
    "reddit = praw.Reddit(client_id='ByGHuaBLiK2AdpNTPWKlCA',\n",
    "                     client_secret='KfB9LAgGXaJ7PhUzRFvNZr32P3g5lg',\n",
    "                     user_agent='Haibo Fang')\n",
    "\n",
    "def get_reddit_data(stock_ticker):\n",
    "    subreddit = reddit.subreddit('all')\n",
    "    query = f'{stock_ticker}'\n",
    "    posts = subreddit.search(query, limit=100)\n",
    "    data = []\n",
    "    for post in posts:\n",
    "        data.append(post.title + ' ' + post.selftext)\n",
    "    return data\n",
    "\n",
    "# 替换为你感兴趣的股票代码\n",
    "stock_ticker = 'AAPL'\n",
    "reddit_data = get_reddit_data(stock_ticker)\n",
    "\n",
    "# 数据预处理\n",
    "def preprocess(texts):\n",
    "    encodings = tokenizer(texts, truncation=True, padding=True, max_length=512, return_tensors='pt')\n",
    "    return encodings\n",
    "\n",
    "# 情绪分析\n",
    "def analyze_sentiment(texts):\n",
    "    model.eval()\n",
    "    inputs = preprocess(texts)\n",
    "    inputs = {key: val.to(device) for key, val in inputs.items()}\n",
    "    with torch.no_grad():\n",
    "        outputs = model(**inputs)\n",
    "    logits = outputs.logits\n",
    "    predictions = torch.argmax(logits, dim=-1)\n",
    "    return predictions.cpu().numpy()\n",
    "\n",
    "# 获取Reddit数据并分析情绪\n",
    "sentiments = []\n",
    "batch_size = 8\n",
    "for i in range(0, len(reddit_data), batch_size):\n",
    "    batch_texts = reddit_data[i:i+batch_size]\n",
    "    batch_sentiments = analyze_sentiment(batch_texts)\n",
    "    sentiments.extend(batch_sentiments)\n",
    "\n",
    "# 统计情绪分析结果\n",
    "def summarize_sentiments(sentiments):\n",
    "    unique, counts = np.unique(sentiments, return_counts=True)\n",
    "    sentiment_summary = dict(zip(unique, counts))\n",
    "    return sentiment_summary\n",
    "\n",
    "summary = summarize_sentiments(sentiments)\n",
    "print(\"Sentiment Summary:\", summary)\n"
   ]
  }
 ],
 "metadata": {
  "kernelspec": {
   "display_name": "tf_gpu",
   "language": "python",
   "name": "python3"
  },
  "language_info": {
   "codemirror_mode": {
    "name": "ipython",
    "version": 3
   },
   "file_extension": ".py",
   "mimetype": "text/x-python",
   "name": "python",
   "nbconvert_exporter": "python",
   "pygments_lexer": "ipython3",
   "version": "3.8.19"
  }
 },
 "nbformat": 4,
 "nbformat_minor": 2
}
