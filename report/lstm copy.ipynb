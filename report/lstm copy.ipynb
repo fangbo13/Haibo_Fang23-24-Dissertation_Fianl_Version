{
 "cells": [
  {
   "cell_type": "code",
   "execution_count": 1,
   "metadata": {},
   "outputs": [],
   "source": [
    "import tensorflow as tf\n"
   ]
  },
  {
   "cell_type": "code",
   "execution_count": 2,
   "metadata": {},
   "outputs": [
    {
     "name": "stdout",
     "output_type": "stream",
     "text": [
      "Num GPUs Available:  1\n",
      "Using GPU:  PhysicalDevice(name='/physical_device:GPU:0', device_type='GPU')\n"
     ]
    },
    {
     "ename": "",
     "evalue": "",
     "output_type": "error",
     "traceback": [
      "\u001b[1;31m在当前单元格或上一个单元格中执行代码时 Kernel 崩溃。\n",
      "\u001b[1;31m请查看单元格中的代码，以确定故障的可能原因。\n",
      "\u001b[1;31m单击<a href='https://aka.ms/vscodeJupyterKernelCrash'>此处</a>了解详细信息。\n",
      "\u001b[1;31m有关更多详细信息，请查看 Jupyter <a href='command:jupyter.viewOutput'>log</a>。"
     ]
    }
   ],
   "source": [
    "print(\"Num GPUs Available: \", len(tf.config.list_physical_devices('GPU')))\n",
    "# 设置TensorFlow使用单个GPU\n",
    "gpus = tf.config.experimental.list_physical_devices('GPU')\n",
    "if gpus:\n",
    "    try:\n",
    "        tf.config.experimental.set_memory_growth(gpus[0], True)\n",
    "        tf.config.experimental.set_visible_devices(gpus[0], 'GPU')\n",
    "        print(\"Using GPU: \", gpus[0])\n",
    "    except RuntimeError as e:\n",
    "        print(e)"
   ]
  },
  {
   "cell_type": "code",
   "execution_count": 3,
   "metadata": {},
   "outputs": [],
   "source": [
    "# 导入其他库\n",
    "import numpy as np\n",
    "import pandas as pd\n",
    "from sklearn.preprocessing import MinMaxScaler\n",
    "from sklearn.metrics import mean_squared_error\n",
    "from tensorflow.keras.layers import LSTM, Dense, Dropout\n",
    "from tensorflow.keras.models import Sequential\n",
    "from hyperopt import fmin, tpe, hp, Trials, STATUS_OK\n",
    "import matplotlib.pyplot as plt"
   ]
  },
  {
   "cell_type": "code",
   "execution_count": 4,
   "metadata": {},
   "outputs": [],
   "source": [
    "# 从本地CSV文件加载数据\n",
    "def get_data_from_csv(file_path='E:/Haibo_Fang23-24-Dissertation/report/AAPL_10_years_data.csv'):\n",
    "    df = pd.read_csv(file_path, index_col='Date', parse_dates=True)\n",
    "    data = df['Close'].values.reshape(-1, 1)\n",
    "    return data"
   ]
  },
  {
   "cell_type": "code",
   "execution_count": 5,
   "metadata": {},
   "outputs": [],
   "source": [
    "# 创建模型\n",
    "def create_model(params):\n",
    "    model = Sequential()\n",
    "    model.add(LSTM(units=params['units'], return_sequences=True, input_shape=(60, 1)))\n",
    "    model.add(Dropout(params['dropout']))\n",
    "    model.add(LSTM(units=params['units'], return_sequences=False))\n",
    "    model.add(Dropout(params['dropout']))\n",
    "    model.add(Dense(units=1))\n",
    "    model.compile(optimizer='adam', loss='mean_squared_error')\n",
    "    return model"
   ]
  },
  {
   "cell_type": "code",
   "execution_count": 6,
   "metadata": {},
   "outputs": [],
   "source": [
    "# 训练模型\n",
    "def train_model(params):\n",
    "    data = get_data_from_csv()\n",
    "    scaler = MinMaxScaler(feature_range=(0, 1))\n",
    "    scaled_data = scaler.fit_transform(data)\n",
    "    \n",
    "    sequence_length = 60\n",
    "    train_size = int(len(data) * 0.8)\n",
    "    train_data = scaled_data[:train_size]\n",
    "    test_data = scaled_data[train_size - sequence_length:]\n",
    "    \n",
    "    x_train, y_train = [], []\n",
    "    for i in range(sequence_length, len(train_data)):\n",
    "        x_train.append(train_data[i-sequence_length:i, 0])\n",
    "        y_train.append(train_data[i, 0])\n",
    "    \n",
    "    x_test, y_test = [], []\n",
    "    for i in range(sequence_length, len(test_data)):\n",
    "        x_test.append(test_data[i-sequence_length:i, 0])\n",
    "        y_test.append(test_data[i, 0])\n",
    "    \n",
    "    x_train, y_train = np.array(x_train), np.array(y_train)\n",
    "    x_test, y_test = np.array(x_test), np.array(y_test)\n",
    "    x_train = np.reshape(x_train, (x_train.shape[0], x_train.shape[1], 1))\n",
    "    x_test = np.reshape(x_test, (x_test.shape[0], x_test.shape[1], 1))\n",
    "    \n",
    "    model = create_model(params)\n",
    "    model.fit(x_train, y_train, epochs=int(params['epochs']), batch_size=int(params['batch_size']), verbose=0)\n",
    "    loss = model.evaluate(x_test, y_test, verbose=0)\n",
    "    return {'loss': loss, 'status': STATUS_OK}"
   ]
  },
  {
   "cell_type": "code",
   "execution_count": 7,
   "metadata": {},
   "outputs": [],
   "source": [
    "\n",
    "# 定义贝叶斯优化搜索空间\n",
    "space = {\n",
    "    'units': hp.choice('units', [50, 100, 150, 200]),\n",
    "    'dropout': hp.uniform('dropout', 0, 0.5),\n",
    "    'epochs': hp.choice('epochs', [10, 20, 30, 40, 50]),\n",
    "    'batch_size': hp.choice('batch_size', [16, 32, 64])\n",
    "}"
   ]
  },
  {
   "cell_type": "code",
   "execution_count": 8,
   "metadata": {},
   "outputs": [
    {
     "name": "stdout",
     "output_type": "stream",
     "text": [
      "100%|██████████| 50/50 [39:02<00:00, 46.86s/trial, best loss: 0.000213817780604586]  \n",
      "{'batch_size': 0, 'dropout': 0.0310090515871157, 'epochs': 2, 'units': 3}\n"
     ]
    }
   ],
   "source": [
    "\n",
    "# 执行贝叶斯优化\n",
    "trials = Trials()\n",
    "best = fmin(fn=train_model, space=space, algo=tpe.suggest, max_evals=50, trials=trials)\n",
    "print(best)"
   ]
  },
  {
   "cell_type": "code",
   "execution_count": 9,
   "metadata": {},
   "outputs": [],
   "source": [
    "# 使用最佳参数训练最终模型\n",
    "best_params = {\n",
    "    'units': [50, 100, 150, 200][best['units']],\n",
    "    'dropout': best['dropout'],\n",
    "    'epochs': [10, 20, 30, 40, 50][best['epochs']],\n",
    "    'batch_size': [16, 32, 64][best['batch_size']]\n",
    "}\n"
   ]
  },
  {
   "cell_type": "code",
   "execution_count": null,
   "metadata": {},
   "outputs": [],
   "source": []
  },
  {
   "cell_type": "code",
   "execution_count": 10,
   "metadata": {},
   "outputs": [],
   "source": [
    "data = get_data_from_csv()\n",
    "scaler = MinMaxScaler(feature_range=(0, 1))\n",
    "scaled_data = scaler.fit_transform(data)"
   ]
  },
  {
   "cell_type": "code",
   "execution_count": 11,
   "metadata": {},
   "outputs": [],
   "source": [
    "sequence_length = 60\n",
    "train_size = int(len(data) * 0.8)\n",
    "train_data = scaled_data[:train_size]\n",
    "test_data = scaled_data[train_size - sequence_length:]"
   ]
  },
  {
   "cell_type": "code",
   "execution_count": 12,
   "metadata": {},
   "outputs": [
    {
     "name": "stdout",
     "output_type": "stream",
     "text": [
      "Epoch 1/30\n",
      "122/122 [==============================] - 4s 17ms/step - loss: 0.0024\n",
      "Epoch 2/30\n",
      "122/122 [==============================] - 2s 15ms/step - loss: 3.4282e-04\n",
      "Epoch 3/30\n",
      "122/122 [==============================] - 2s 15ms/step - loss: 3.2506e-04\n",
      "Epoch 4/30\n",
      "122/122 [==============================] - 2s 15ms/step - loss: 3.4806e-04\n",
      "Epoch 5/30\n",
      "122/122 [==============================] - 2s 15ms/step - loss: 3.1620e-04\n",
      "Epoch 6/30\n",
      "122/122 [==============================] - 2s 15ms/step - loss: 2.3388e-04\n",
      "Epoch 7/30\n",
      "122/122 [==============================] - 2s 15ms/step - loss: 2.9630e-04\n",
      "Epoch 8/30\n",
      "122/122 [==============================] - 2s 16ms/step - loss: 2.5008e-04\n",
      "Epoch 9/30\n",
      "122/122 [==============================] - 2s 16ms/step - loss: 2.4941e-04\n",
      "Epoch 10/30\n",
      "122/122 [==============================] - 2s 15ms/step - loss: 2.5909e-04\n",
      "Epoch 11/30\n",
      "122/122 [==============================] - 2s 16ms/step - loss: 3.1023e-04\n",
      "Epoch 12/30\n",
      "122/122 [==============================] - 2s 16ms/step - loss: 2.4482e-04\n",
      "Epoch 13/30\n",
      "122/122 [==============================] - 2s 15ms/step - loss: 2.7339e-04\n",
      "Epoch 14/30\n",
      "122/122 [==============================] - 2s 15ms/step - loss: 3.1212e-04\n",
      "Epoch 15/30\n",
      "122/122 [==============================] - 2s 15ms/step - loss: 2.1399e-04\n",
      "Epoch 16/30\n",
      "122/122 [==============================] - 2s 16ms/step - loss: 1.8833e-04\n",
      "Epoch 17/30\n",
      "122/122 [==============================] - 2s 15ms/step - loss: 2.2418e-04\n",
      "Epoch 18/30\n",
      "122/122 [==============================] - 2s 15ms/step - loss: 2.0745e-04\n",
      "Epoch 19/30\n",
      "122/122 [==============================] - 2s 15ms/step - loss: 1.8019e-04\n",
      "Epoch 20/30\n",
      "122/122 [==============================] - 2s 15ms/step - loss: 1.9941e-04\n",
      "Epoch 21/30\n",
      "122/122 [==============================] - 2s 15ms/step - loss: 2.0450e-04\n",
      "Epoch 22/30\n",
      "122/122 [==============================] - 2s 15ms/step - loss: 2.3289e-04\n",
      "Epoch 23/30\n",
      "122/122 [==============================] - 2s 15ms/step - loss: 2.7516e-04\n",
      "Epoch 24/30\n",
      "122/122 [==============================] - 2s 15ms/step - loss: 1.4599e-04\n",
      "Epoch 25/30\n",
      "122/122 [==============================] - 2s 15ms/step - loss: 1.5480e-04\n",
      "Epoch 26/30\n",
      "122/122 [==============================] - 2s 15ms/step - loss: 1.6607e-04\n",
      "Epoch 27/30\n",
      "122/122 [==============================] - 2s 15ms/step - loss: 1.6881e-04\n",
      "Epoch 28/30\n",
      "122/122 [==============================] - 2s 15ms/step - loss: 1.4833e-04\n",
      "Epoch 29/30\n",
      "122/122 [==============================] - 2s 16ms/step - loss: 1.4808e-04\n",
      "Epoch 30/30\n",
      "122/122 [==============================] - 2s 15ms/step - loss: 1.8486e-04\n"
     ]
    },
    {
     "data": {
      "text/plain": [
       "<tensorflow.python.keras.callbacks.History at 0x18b434bf700>"
      ]
     },
     "execution_count": 12,
     "metadata": {},
     "output_type": "execute_result"
    }
   ],
   "source": [
    "x_train, y_train = [], []\n",
    "for i in range(sequence_length, len(train_data)):\n",
    "    x_train.append(train_data[i-sequence_length:i, 0])\n",
    "    y_train.append(train_data[i, 0])\n",
    "\n",
    "x_test, y_test = [], []\n",
    "for i in range(sequence_length, len(test_data)):\n",
    "    x_test.append(test_data[i-sequence_length:i, 0])\n",
    "    y_test.append(test_data[i, 0])\n",
    "\n",
    "x_train, y_train = np.array(x_train), np.array(y_train)\n",
    "x_test, y_test = np.array(x_test), np.array(y_test)\n",
    "x_train = np.reshape(x_train, (x_train.shape[0], x_train.shape[1], 1))\n",
    "x_test = np.reshape(x_test, (x_test.shape[0], x_test.shape[1], 1))\n",
    "\n",
    "model = create_model(best_params)\n",
    "model.fit(x_train, y_train, epochs=best_params['epochs'], batch_size=best_params['batch_size'], verbose=1)\n"
   ]
  },
  {
   "cell_type": "code",
   "execution_count": 13,
   "metadata": {},
   "outputs": [],
   "source": [
    "# 预测测试集\n",
    "test_predictions = model.predict(x_test)\n",
    "test_predictions = scaler.inverse_transform(test_predictions)\n",
    "y_test = scaler.inverse_transform(y_test.reshape(-1, 1))"
   ]
  },
  {
   "cell_type": "code",
   "execution_count": 14,
   "metadata": {},
   "outputs": [
    {
     "name": "stdout",
     "output_type": "stream",
     "text": [
      "Mean Squared Error: 8.140596284840807\n"
     ]
    }
   ],
   "source": [
    "# 评估模型\n",
    "mse = mean_squared_error(y_test, test_predictions)\n",
    "print(\"Mean Squared Error:\", mse)"
   ]
  },
  {
   "cell_type": "code",
   "execution_count": 16,
   "metadata": {},
   "outputs": [
    {
     "data": {
      "image/png": "[encoded data removed]",
      "text/plain": [
       "<Figure size 1400x500 with 1 Axes>"
      ]
     },
     "metadata": {},
     "output_type": "display_data"
    }
   ],
   "source": [
    "# 确认 historical_data 和 y_test 长度匹配\n",
    "historical_data = data[:train_size].flatten()\n",
    "test_data = data[train_size:].flatten()\n",
    "\n",
    "# 确认绘图时的 x 和 y 轴长度匹配\n",
    "plt.figure(figsize=(14, 5))\n",
    "plt.plot(np.arange(len(historical_data)), historical_data, label='Historical Data')\n",
    "plt.plot(np.arange(len(historical_data), len(historical_data) + len(test_data)), y_test.flatten(), label='True Test Data')\n",
    "plt.plot(np.arange(len(historical_data), len(historical_data) + len(test_data)), test_predictions.flatten(), label='Predicted Test Data')\n",
    "plt.legend()\n",
    "plt.show()"
   ]
  },
  {
   "cell_type": "code",
   "execution_count": 17,
   "metadata": {},
   "outputs": [
    {
     "name": "stdout",
     "output_type": "stream",
     "text": [
      "Best hyperparameters: {'batch_size': 0, 'dropout': 0.0310090515871157, 'epochs': 2, 'units': 3}\n",
      "Best Parameters after Bayesian Optimization: {'units': 200, 'dropout': 0.0310090515871157, 'epochs': 30, 'batch_size': 16}\n"
     ]
    }
   ],
   "source": [
    "# 训练并评估模型后，打印最佳参数\n",
    "print(\"Best hyperparameters:\", best)\n",
    "\n",
    "best_params = {\n",
    "    'units': [50, 100, 150, 200][best['units']],\n",
    "    'dropout': best['dropout'],\n",
    "    'epochs': [10, 20, 30, 40, 50][best['epochs']],\n",
    "    'batch_size': [16, 32, 64][best['batch_size']]\n",
    "}\n",
    "\n",
    "print(\"Best Parameters after Bayesian Optimization:\", best_params)\n"
   ]
  },
  {
   "cell_type": "code",
   "execution_count": 19,
   "metadata": {},
   "outputs": [
    {
     "name": "stdout",
     "output_type": "stream",
     "text": [
      "Mean Squared Error: 8.140596284840807\n",
      "Root Mean Squared Error: 2.8531730204880335\n",
      "Mean Absolute Error: 2.1458909776475696\n"
     ]
    }
   ],
   "source": [
    "# 评估模型\n",
    "from sklearn.metrics import mean_absolute_error\n",
    "\n",
    "\n",
    "mse = mean_squared_error(y_test, test_predictions)\n",
    "rmse = np.sqrt(mse)\n",
    "mae = mean_absolute_error(y_test, test_predictions)\n",
    "\n",
    "print(\"Mean Squared Error:\", mse)\n",
    "print(\"Root Mean Squared Error:\", rmse)\n",
    "print(\"Mean Absolute Error:\", mae)\n"
   ]
  }
 ],
 "metadata": {
  "kernelspec": {
   "display_name": "Python 3",
   "language": "python",
   "name": "python3"
  },
  "language_info": {
   "codemirror_mode": {
    "name": "ipython",
    "version": 3
   },
   "file_extension": ".py",
   "mimetype": "text/x-python",
   "name": "python",
   "nbconvert_exporter": "python",
   "pygments_lexer": "ipython3",
   "version": "3.9.18"
  }
 },
 "nbformat": 4,
 "nbformat_minor": 2
}
